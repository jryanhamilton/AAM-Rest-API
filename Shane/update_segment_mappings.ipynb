{
 "cells": [
  {
   "cell_type": "code",
   "execution_count": null,
   "metadata": {},
   "outputs": [],
   "source": [
    "##################################################################################################\n",
    "#\n",
    "# Parse API results for segment mapping ID and destination ID\n",
    "#\n",
    "##################################################################################################\n",
    "__author__ = \"Shane Nielson\"\n",
    "__email__ = \"shnielso@adobe.com\"\n",
    "\n",
    "# Imports\n",
    "import os\n",
    "import sys\n",
    "module_path = os.path.abspath(os.path.join('./lib/'))    \n",
    "if module_path not in sys.path:\n",
    "    sys.path.append(module_path)\n",
    "    \n",
    "import apiRequests as demdex_api\n",
    "import logging\n",
    "import csv\n",
    "import codecs\n",
    "\n",
    "# Configure Logging\n",
    "logging.basicConfig(level=logging.INFO)\n",
    "logger = logging.getLogger(__name__)\n",
    "\n",
    "if __name__ == \"__main__\":\n",
    "    # Set up api object\n",
    "    api = demdex_api.Credentials()\n",
    "\n",
    "    api.username = \"\"\n",
    "    api.password = \"\"\n",
    "    api.client_id = \"\"\n",
    "    api.client_secret = \"\"\n",
    "\n",
    "    # Encode user/pass and get token\n",
    "    api.encode()\n",
    "    api.get_token()\n",
    "\n",
    "    # Set up api requests\n",
    "    request = demdex_api.Request(api.access_token)\n",
    "\n",
    "    # # Read CSV file with header and rows to create payloads\n",
    "    with codecs.open(\"input_file.csv\", 'r', encoding=\"utf-8-sig\") as infile:\n",
    "        input_file = csv.DictReader(infile)\n",
    "\n",
    "        for row in input_file:\n",
    "            # logger.debug(row)\n",
    "            r = request.put_destination_mapping(row)\n",
    "            logger.debug(r.text)\n"
   ]
  }
 ],
 "metadata": {
  "kernelspec": {
   "display_name": "Python 3",
   "language": "python",
   "name": "python3"
  },
  "language_info": {
   "codemirror_mode": {
    "name": "ipython",
    "version": 3
   },
   "file_extension": ".py",
   "mimetype": "text/x-python",
   "name": "python",
   "nbconvert_exporter": "python",
   "pygments_lexer": "ipython3",
   "version": "3.5.2"
  }
 },
 "nbformat": 4,
 "nbformat_minor": 2
}
