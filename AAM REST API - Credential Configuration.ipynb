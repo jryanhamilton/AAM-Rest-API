{
 "cells": [
  {
   "cell_type": "markdown",
   "metadata": {},
   "source": [
    "# AAM REST API Test"
   ]
  },
  {
   "cell_type": "markdown",
   "metadata": {},
   "source": [
    "## Check for Audience Manager API Credentials"
   ]
  },
  {
   "cell_type": "markdown",
   "metadata": {},
   "source": [
    "This block of code looks for a file with Audience Manager API Credentials."
   ]
  },
  {
   "cell_type": "code",
   "execution_count": 4,
   "metadata": {},
   "outputs": [],
   "source": [
    "import json\n",
    "import os\n",
    "\n",
    "##Variables\n",
    "home_directory = os.path.expanduser('~')\n",
    "credential_file = os.path.join(home_directory, 'AAM API Credentials.json')\n",
    "raw_input = input\n",
    "username = ''\n",
    "password = ''\n",
    "token = ''"
   ]
  },
  {
   "cell_type": "code",
   "execution_count": 7,
   "metadata": {},
   "outputs": [],
   "source": [
    "def requestAPICredentials():\n",
    "    try:\n",
    "        with open(credential_file) as json_file:\n",
    "            data = json.load(json_file)\n",
    "            for p in data['credentials']:\n",
    "                username = p['username']\n",
    "                password = p['password']\n",
    "                token = p['token']\n",
    "\n",
    "            print (username, password, token)\n",
    "    except IOError:\n",
    "        print ('Credential file is not accessible')\n",
    "        user_input = raw_input(\"Audience Manager instance Username: \")\n",
    "        pass_input = raw_input(\"Audience Manager instance Password: \")\n",
    "        token_input = raw_input(\"HTML Encoded Token: \")\n",
    "\n",
    "        createAPICredentialsFile(user_input, pass_input, token_input)\n",
    "\n",
    "\n",
    "def createAPICredentialsFile(username, password, token):\n",
    "    data = {}\n",
    "    data['credentials'] = []\n",
    "    data['credentials'].append({\n",
    "        'username': username,\n",
    "        'password': password,\n",
    "        'token': token\n",
    "    })\n",
    "\n",
    "    with open(credential_file, 'w') as outfile:\n",
    "        json.dump(data, outfile)\n",
    "\n",
    "    print ('Credential file \"_AAM API Credentials.json\" has been written')"
   ]
  },
  {
   "cell_type": "code",
   "execution_count": 8,
   "metadata": {},
   "outputs": [
    {
     "name": "stdout",
     "output_type": "stream",
     "text": [
      "test test2 asdfb445\n"
     ]
    }
   ],
   "source": [
    "requestAPICredentials()"
   ]
  },
  {
   "cell_type": "code",
   "execution_count": null,
   "metadata": {},
   "outputs": [],
   "source": []
  }
 ],
 "metadata": {
  "kernelspec": {
   "display_name": "Python 3",
   "language": "python",
   "name": "python3"
  },
  "language_info": {
   "codemirror_mode": {
    "name": "ipython",
    "version": 3
   },
   "file_extension": ".py",
   "mimetype": "text/x-python",
   "name": "python",
   "nbconvert_exporter": "python",
   "pygments_lexer": "ipython3",
   "version": "3.6.4"
  }
 },
 "nbformat": 4,
 "nbformat_minor": 2
}
